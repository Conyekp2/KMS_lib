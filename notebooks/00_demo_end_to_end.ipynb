{
 "cells": [
  {
   "cell_type": "markdown",
   "id": "7dfecb5f",
   "metadata": {},
   "source": [
    "# KMS_lib — End-to-End Demonstration\n",
    "\n",
    "**Goal.** Reproduce the core pipeline:\n",
    "1) Metadata normalization → 2) Query annotation/typology\n",
    "→ 3) Semantic retrieval + reformulation → 4) FAQ chatbot demo\n",
    "\n",
    "**Inputs.**\n",
    "- `data/metadata_samples.csv`\n",
    "- `data/user_queries.csv`\n",
    "- `data/faq_dataset.json`\n",
    "\n",
    "**Outputs.**\n",
    "- Cleaned metadata preview\n",
    "- Labeled query sample\n",
    "- Retrieval diagnostics (top-k)\n",
    "- FAQ assistant preview\n",
    "\n",
    "**Runtime.** Python 3.11. Dependencies in `requirements.txt`. No external APIs required. Local LLM via Ollama if available; otherwise HF fallback.\n"
   ]
  },
  {
   "cell_type": "code",
   "execution_count": null,
   "id": "d8748228",
   "metadata": {},
   "outputs": [],
   "source": [
    "import sys, platform, pandas as pd, json, pathlib\n",
    "\n",
    "print(\"Python:\", sys.version)\n",
    "print(\"Platform:\", platform.platform())\n",
    "\n",
    "ROOT = pathlib.Path(__file__).resolve().parents[1]\n",
    "DATA = ROOT / \"data\"\n",
    "\n",
    "assert (DATA / \"metadata_samples.csv\").exists(), \"Missing data/metadata_samples.csv\"\n",
    "assert (DATA / \"user_queries.csv\").exists(), \"Missing data/user_queries.csv\"\n",
    "assert (DATA / \"faq_dataset.json\").exists(), \"Missing data/faq_dataset.json\"\n",
    "\n",
    "meta = pd.read_csv(DATA / \"metadata_samples.csv\")\n",
    "queries = pd.read_csv(DATA / \"user_queries.csv\")\n",
    "faq = json.loads((DATA / \"faq_dataset.json\").read_text(encoding=\"utf-8\"))\n",
    "\n",
    "meta.head(), queries.head(), faq[:2]"
   ]
  }
 ],
 "metadata": {},
 "nbformat": 4,
 "nbformat_minor": 5
}
