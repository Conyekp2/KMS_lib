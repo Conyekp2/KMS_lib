{
 "cells": [
  {
   "cell_type": "markdown",
   "id": "d98962a8",
   "metadata": {},
   "source": [
    "# 04 — Minimal Ontology Mapping\n",
    "\n",
    "**Aim.** Provide a pragmatic starting point:\n",
    "- Define core classes (e.g., `AcademicDocument`, `Guide`, `Template`, `FAQItem`)\n",
    "- Define minimal relations (`relatedTo`, `requires`, `hasFormat`)\n",
    "- Export CSV/JSON for visualization in external tools (e.g., Kumu, Gephi)\n",
    "\n",
    "**Output.**\n",
    "- `docs/min_ontology_export.csv` with columns: `source`, `relation`, `target`\n"
   ]
  },
  {
   "cell_type": "code",
   "execution_count": null,
   "id": "a9c1020e",
   "metadata": {},
   "outputs": [],
   "source": [
    "import pandas as pd, pathlib\n",
    "\n",
    "ROOT = pathlib.Path(__file__).resolve().parents[1]\n",
    "DOCS = ROOT / \"docs\"\n",
    "\n",
    "edges = [\n",
    "    (\"AcademicDocument\", \"relatedTo\", \"Guide\"),\n",
    "    (\"Guide\", \"hasFormat\", \"Template\"),\n",
    "    (\"FAQItem\", \"supports\", \"Methodology\"),\n",
    "]\n",
    "\n",
    "df = pd.DataFrame(edges, columns=[\"source\",\"relation\",\"target\"])\n",
    "DOCS.mkdir(parents=True, exist_ok=True)\n",
    "out = DOCS / \"min_ontology_export.csv\"\n",
    "df.to_csv(out, index=False)\n",
    "out, df.head()"
   ]
  }
 ],
 "metadata": {},
 "nbformat": 4,
 "nbformat_minor": 5
}
