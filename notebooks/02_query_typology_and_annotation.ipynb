{
 "cells": [
  {
   "cell_type": "markdown",
   "id": "2598701c",
   "metadata": {},
   "source": [
    "# 02 — Query Typology & Annotation\n",
    "\n",
    "**Goal.** Apply a simple scheme:\n",
    "- `structure`: token | noun phrase | sentence\n",
    "- `specificity`: generic | semi-specific | specific\n",
    "- `intent`: document_access | template_access | methodology | access_help | unknown\n",
    "\n",
    "**Deliverables.**\n",
    "- Labeled sample with distribution plots\n",
    "- Heuristic annotator functions for reproducibility\n"
   ]
  },
  {
   "cell_type": "code",
   "execution_count": null,
   "id": "079d01df",
   "metadata": {},
   "outputs": [],
   "source": [
    "import pandas as pd, re, pathlib\n",
    "\n",
    "ROOT = pathlib.Path(__file__).resolve().parents[1]\n",
    "DATA = ROOT / \"data\"\n",
    "\n",
    "q = pd.read_csv(DATA / \"user_queries.csv\")\n",
    "\n",
    "def guess_structure(text: str) -> str:\n",
    "    t = text.strip()\n",
    "    if \" \" not in t:\n",
    "        return \"token\"\n",
    "    if t.endswith(\"?\") or re.match(r\"^(how|why|where|what)\\b\", t.lower()):\n",
    "        return \"sentence\"\n",
    "    return \"noun phrase\"\n",
    "\n",
    "def guess_specificity(text: str) -> str:\n",
    "    t = text.lower()\n",
    "    if re.search(r\"\\b(202[0-9]|[12][0-9]{3})\\b\", t) or \"template\" in t:\n",
    "        return \"specific\"\n",
    "    if len(t.split()) >= 3:\n",
    "        return \"semi-specific\"\n",
    "    return \"generic\"\n",
    "\n",
    "def guess_intent(text: str) -> str:\n",
    "    t = text.lower()\n",
    "    if \"template\" in t: return \"template_access\"\n",
    "    if \"format\" in t or \"guide\" in t: return \"methodology\"\n",
    "    if \"access denied\" in t or \"sign in\" in t: return \"access_help\"\n",
    "    if \"book\" in t or \"case study\" in t or \"pdf\" in t: return \"document_access\"\n",
    "    return \"unknown\"\n",
    "\n",
    "q[\"structure_h\"] = q[\"query\"].map(guess_structure)\n",
    "q[\"specificity_h\"] = q[\"query\"].map(guess_specificity)\n",
    "q[\"intent_h\"] = q[\"query\"].map(guess_intent)\n",
    "\n",
    "q.head(10)"
   ]
  }
 ],
 "metadata": {},
 "nbformat": 4,
 "nbformat_minor": 5
}
